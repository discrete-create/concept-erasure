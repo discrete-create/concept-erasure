{
 "cells": [
  {
   "cell_type": "code",
   "execution_count": 3,
   "id": "656aa771-9854-4f4e-9d13-556adc15642b",
   "metadata": {},
   "outputs": [],
   "source": [
    "from config_utils import import_models_for_cfr"
   ]
  },
  {
   "cell_type": "code",
   "execution_count": null,
   "id": "c4b3d584-8380-44e2-b206-3932e5c2ac95",
   "metadata": {},
   "outputs": [],
   "source": []
  }
 ],
 "metadata": {
  "kernelspec": {
   "display_name": "Python (trce)",
   "language": "python",
   "name": "trce"
  },
  "language_info": {
   "codemirror_mode": {
    "name": "ipython",
    "version": 3
   },
   "file_extension": ".py",
   "mimetype": "text/x-python",
   "name": "python",
   "nbconvert_exporter": "python",
   "pygments_lexer": "ipython3",
   "version": "3.10.18"
  }
 },
 "nbformat": 4,
 "nbformat_minor": 5
}
